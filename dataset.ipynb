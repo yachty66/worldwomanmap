{
 "cells": [
  {
   "cell_type": "code",
   "execution_count": null,
   "metadata": {},
   "outputs": [],
   "source": [
    "#first we need to make our dataset\n",
    "\"\"\"\n",
    "A photo of a 25 year old woman from Germany\n",
    "\n",
    "running this prompt for every single woman i have \n",
    "\n",
    "\n",
    "\"\"\""
   ]
  },
  {
   "cell_type": "code",
   "execution_count": 2,
   "metadata": {},
   "outputs": [],
   "source": [
    "#create the dataset of prompts \n",
    "import pandas as pd\n",
    "\n",
    "# Download the mapping.csv file from GitHub\n",
    "mapping_url = \"https://raw.githubusercontent.com/flekschas/simple-world-map/master/mapping.csv\"\n",
    "mapping_df = pd.read_csv(mapping_url)\n"
   ]
  },
  {
   "cell_type": "code",
   "execution_count": 3,
   "metadata": {},
   "outputs": [],
   "source": [
    "# Get list of country names\n",
    "countries_list = mapping_df['Country Name'].tolist()\n",
    "\n",
    "# Or if you want country codes instead\n",
    "country_codes = mapping_df['Country Code'].tolist()\n",
    "\n",
    "# If you want both in a list of tuples\n",
    "countries_with_codes = list(zip(mapping_df['Country Name'], mapping_df['Country Code']))"
   ]
  },
  {
   "cell_type": "code",
   "execution_count": 4,
   "metadata": {},
   "outputs": [
    {
     "name": "stdout",
     "output_type": "stream",
     "text": [
      "Total number of countries: 175\n",
      "\n",
      "First 5 countries:\n",
      "['Somaliland', 'United Arab Emirates', 'Afghanistan', 'Albania', 'Armenia', 'Angola', 'Argentina', 'Austria', 'Australia', 'Azerbaijan', 'Bosnia and Herzegowina', 'Bangladesh', 'Belgium', 'Burkina Faso', 'Bulgaria', 'Burundi', 'Benin', 'Brunei', 'Bolivia', 'Brazil', 'Bahamas', 'Bhutan', 'Botswana', 'Belarus', 'Belize', 'Canada', 'Democratic Republic of the Congo', 'Central African Republic', 'Congo', 'Switzerland', \"Cote d'Ivoire\", 'Chile', 'Cameroon', 'China', 'Colombia', 'Costa Rica', 'Cuba', 'Cyprus', 'Czech', 'Germany', 'Djibouti', 'Denmark', 'Dominican Republic', 'Algeria', 'Ecuador', 'Estonia', 'Egypt', 'West Sahara', 'Eritrea', 'Spain', 'Ethiopia', 'Finland', 'Fiji', 'Falkland Islands', 'France', 'Gabon', 'United Kingdom', 'Georgia', 'Ghana', 'Greenland', 'Gambia', 'Guinea', 'Equatorial Guinea', 'Greece', 'Guatemala', 'Guinea-Bissau', 'Guyana', 'Honduras', 'Croatia', 'Haiti', 'Hungary', 'Indonesia', 'Ireland', 'Israel', 'India', 'Iraq', 'Iran', 'Iceland', 'Italy', 'Jamaica', 'Jordan', 'Japan', 'Kenya', 'Kyrgyzstan', 'Cambodia', 'North Korea', 'South Korea', 'Kuwait', 'Kazakhstan', 'Laos', 'Lebanon', 'Sri Lanka', 'Liberia', 'Lesotho', 'Lithuania', 'Luxembourg', 'Latvia', 'Libya', 'Morocco', 'Moldova', 'Montenegro', 'Madagascar', 'Macedonia', 'Mali', 'Myanmar', 'Mongolia', 'Mauritania', 'Malawi', 'Mexico', 'Malaysia', 'Mozambique', 'Namibia', 'New Caledonia', 'Niger', 'Nigeria', 'Nicaragua', 'Netherlands', 'Norway', 'Nepal', 'New Zealand', 'Oman', 'Panama', 'Peru', 'Papua New Guinea', 'Philippines', 'Pakistan', 'Poland', 'Puerto Rico', 'Palestine', 'Portugal', 'Paraguay', 'Qatar', 'Romania', 'Serbia', 'Russia', 'Rwanda', 'Saudi Arabia', 'Solomon Islands', 'Sudan', 'Sweden', 'Singapore', 'Slovenia', 'Slovakia', 'Sierra Leone', 'Senegal', 'Somalia', 'Suriname', 'South Sudan', 'El Salvador', 'Syria', 'Swaziland', 'Chad', 'Fr. S. Antarctic Lands', 'Togo', 'Thailand', 'Tajikistan', 'Timor-Leste', 'Turkmenistan', 'Tunisia', 'Turkey', 'Trinidad and Tobago', 'Taiwan', 'Tanzania', 'Ukraine', 'Uganda', 'United States', 'Uruguay', 'Uzbekistan', 'Venezuela', 'Vietnam', 'Vanuatu', 'Yemen', 'South Africa', 'Zambia', 'Zimbabwe']\n"
     ]
    }
   ],
   "source": [
    "print(\"Total number of countries:\", len(countries_list))\n",
    "print(\"\\nFirst 5 countries:\")\n",
    "print(countries_list)"
   ]
  },
  {
   "cell_type": "code",
   "execution_count": 5,
   "metadata": {},
   "outputs": [
    {
     "name": "stdout",
     "output_type": "stream",
     "text": [
      "Sample prompts:\n",
      "A photo of a 25 year old woman from Somaliland\n",
      "A photo of a 25 year old woman from United Arab Emirates\n",
      "A photo of a 25 year old woman from Afghanistan\n",
      "A photo of a 25 year old woman from Albania\n",
      "A photo of a 25 year old woman from Armenia\n"
     ]
    }
   ],
   "source": [
    "# Create prompts list using list comprehension\n",
    "prompts_list = [f\"A photo of a 25 year old woman from {country}\" for country in countries_list]\n",
    "\n",
    "# Print a few examples to verify\n",
    "print(\"Sample prompts:\")\n",
    "print(\"\\n\".join(prompts_list[:5]))"
   ]
  },
  {
   "cell_type": "code",
   "execution_count": 13,
   "metadata": {},
   "outputs": [
    {
     "name": "stdout",
     "output_type": "stream",
     "text": [
      "Testing with prompt: A photo of a 25 year old woman from Germany\n",
      "Success! Test image saved as: generated_images/test_Germany3.jpg\n"
     ]
    }
   ],
   "source": [
    "# Test cell for single image generation\n",
    "from dotenv import load_dotenv\n",
    "import os\n",
    "import replicate\n",
    "\n",
    "# Load environment variables\n",
    "load_dotenv()\n",
    "token = os.getenv('REPLICATE_API_TOKEN')\n",
    "\n",
    "# Test with a single country\n",
    "test_country = \"Germany\"\n",
    "test_prompt = f\"A photo of a 25 year old woman from {test_country}\"\n",
    "\n",
    "# Create test directory\n",
    "os.makedirs('generated_images', exist_ok=True)\n",
    "\n",
    "# Run single test\n",
    "try:\n",
    "    print(f\"Testing with prompt: {test_prompt}\")\n",
    "    \n",
    "    response = replicate.run(\n",
    "        \"black-forest-labs/flux-1.1-pro-ultra\",\n",
    "        input={\n",
    "            \"prompt\": test_prompt,\n",
    "            \"aspect_ratio\": \"3:2\",\n",
    "            \"raw\": True,\n",
    "            \"output_format\": \"jpg\",\n",
    "            \"safety_tolerance\": 2,\n",
    "            \"image_prompt_strength\": 0.1\n",
    "        }\n",
    "    )\n",
    "    \n",
    "    # Save test image\n",
    "    filename = f\"generated_images/test_{test_country.replace(' ', '_')}3.jpg\"\n",
    "    with open(filename, \"wb\") as file:\n",
    "        file.write(response.read())\n",
    "    \n",
    "    print(f\"Success! Test image saved as: {filename}\")\n",
    "except Exception as e:\n",
    "    print(f\"Error during test: {str(e)}\")"
   ]
  },
  {
   "cell_type": "code",
   "execution_count": 6,
   "metadata": {},
   "outputs": [
    {
     "name": "stderr",
     "output_type": "stream",
     "text": [
      "Generating images:   0%|          | 0/175 [00:00<?, ?it/s]"
     ]
    },
    {
     "name": "stderr",
     "output_type": "stream",
     "text": [
      "Generating images: 100%|██████████| 175/175 [27:42<00:00,  9.50s/it]"
     ]
    },
    {
     "name": "stdout",
     "output_type": "stream",
     "text": [
      "\n",
      "Image generation complete!\n",
      "\n",
      "All images generated successfully!\n",
      "\n",
      "Total execution time: 1662.75 seconds\n"
     ]
    },
    {
     "name": "stderr",
     "output_type": "stream",
     "text": [
      "\n"
     ]
    }
   ],
   "source": [
    "import asyncio\n",
    "import nest_asyncio\n",
    "import aiohttp\n",
    "import os\n",
    "from tqdm import tqdm\n",
    "import time\n",
    "\n",
    "from dotenv import load_dotenv\n",
    "import os\n",
    "import replicate\n",
    "\n",
    "# Load environment variables from .env file\n",
    "load_dotenv()\n",
    "\n",
    "# Now you can access the token from environment variables\n",
    "# The token will be automatically loaded from .env file\n",
    "token = os.getenv('REPLICATE_API_TOKEN')\n",
    "\n",
    "async def generate_image(session, country, prompt):\n",
    "    try:\n",
    "        input_data = {\n",
    "            \"prompt\": prompt,\n",
    "            \"aspect_ratio\": \"3:2\",\n",
    "            \"raw\": True,\n",
    "            \"output_format\": \"jpg\",\n",
    "            \"safety_tolerance\": 2,\n",
    "            \"image_prompt_strength\": 0.1\n",
    "        }\n",
    "        \n",
    "        # Use regular run instead of async_run\n",
    "        response = replicate.run(\n",
    "            \"black-forest-labs/flux-1.1-pro-ultra\",\n",
    "            input=input_data\n",
    "        )\n",
    "        \n",
    "        # Create images directory if it doesn't exist\n",
    "        os.makedirs('generated_images', exist_ok=True)\n",
    "        \n",
    "        # Save image with country name\n",
    "        filename = f\"generated_images/{country.replace(' ', '_')}.jpg\"\n",
    "        with open(filename, \"wb\") as file:\n",
    "            file.write(response.read())\n",
    "            \n",
    "        return True, country\n",
    "        \n",
    "    except Exception as e:\n",
    "        print(f\"Error for {country}: {str(e)}\")  # Add error printing\n",
    "        return False, country\n",
    "\n",
    "async def process_batch(prompts_batch):\n",
    "    async with aiohttp.ClientSession() as session:\n",
    "        tasks = []\n",
    "        for country, prompt in prompts_batch:\n",
    "            task = generate_image(session, country, prompt)\n",
    "            tasks.append(task)\n",
    "        \n",
    "        results = await asyncio.gather(*tasks, return_exceptions=True)\n",
    "        \n",
    "        # Track failed generations\n",
    "        failed_countries = [country for success, country in results if not success]\n",
    "        if failed_countries:\n",
    "            print(f\"Failed generations for countries: {', '.join(failed_countries)}\")\n",
    "        \n",
    "        return failed_countries\n",
    "\n",
    "async def main():\n",
    "    # Create pairs of (country, prompt)\n",
    "    country_prompt_pairs = list(zip(countries_list, prompts_list))\n",
    "    \n",
    "    # Process in batches of 10\n",
    "    batch_size = 10\n",
    "    failed_countries = []\n",
    "    \n",
    "    # Create progress bar\n",
    "    with tqdm(total=len(country_prompt_pairs), desc=\"Generating images\") as pbar:\n",
    "        for i in range(0, len(country_prompt_pairs), batch_size):\n",
    "            batch = country_prompt_pairs[i:i + batch_size]\n",
    "            batch_failed = await process_batch(batch)\n",
    "            failed_countries.extend(batch_failed)\n",
    "            pbar.update(len(batch))\n",
    "            \n",
    "            # Add a small delay between batches to avoid rate limiting\n",
    "            await asyncio.sleep(1)\n",
    "    \n",
    "    # Final report\n",
    "    print(\"\\nImage generation complete!\")\n",
    "    if failed_countries:\n",
    "        print(f\"\\nFailed generations for {len(failed_countries)} countries:\")\n",
    "        print(\"\\n\".join(failed_countries))\n",
    "    else:\n",
    "        print(\"\\nAll images generated successfully!\")\n",
    "\n",
    "import nest_asyncio\n",
    "nest_asyncio.apply()  # This allows async code to run in Jupyter\n",
    "\n",
    "# Now run the async code\n",
    "start_time = time.time()\n",
    "await main()  # Use await instead of asyncio.run()\n",
    "end_time = time.time()\n",
    "print(f\"\\nTotal execution time: {end_time - start_time:.2f} seconds\")"
   ]
  },
  {
   "cell_type": "code",
   "execution_count": null,
   "metadata": {},
   "outputs": [],
   "source": []
  }
 ],
 "metadata": {
  "kernelspec": {
   "display_name": "env",
   "language": "python",
   "name": "env"
  },
  "language_info": {
   "codemirror_mode": {
    "name": "ipython",
    "version": 3
   },
   "file_extension": ".py",
   "mimetype": "text/x-python",
   "name": "python",
   "nbconvert_exporter": "python",
   "pygments_lexer": "ipython3",
   "version": "3.12.9"
  }
 },
 "nbformat": 4,
 "nbformat_minor": 2
}
